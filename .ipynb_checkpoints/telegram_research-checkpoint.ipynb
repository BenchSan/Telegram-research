{
 "cells": [
  {
   "cell_type": "markdown",
   "id": "b2c634c1",
   "metadata": {},
   "source": [
    "## Homework #5. Exploratory Data Analysis\n",
    "#### Author: `Arkadii Kovalenko`\n",
    "#### Total time spent on h/w (in minutes): `2100`"
   ]
  },
  {
   "cell_type": "markdown",
   "id": "3f8efc4e",
   "metadata": {},
   "source": [
    "# Imports"
   ]
  },
  {
   "cell_type": "code",
   "execution_count": 24,
   "id": "24a6f0a4",
   "metadata": {},
   "outputs": [],
   "source": [
    "import pandas as pd\n",
    "import numpy as np\n",
    "import ast\n",
    "import datetime\n",
    "import matplotlib.pyplot as plt\n",
    "from plotly.subplots import make_subplots\n",
    "import plotly.graph_objects as go\n",
    "import seaborn as sns\n",
    "pd.options.plotting.backend = \"plotly\"\n",
    "from wordcloud import WordCloud, STOPWORDS, ImageColorGenerator\n",
    "import re\n",
    "import plotly.express as px\n",
    "from PIL import Image\n",
    "\n",
    "import plotly.io as pio\n",
    "pio.renderers.default = \"notebook+pdf\"\n",
    "import kaleido\n",
    "import warnings\n",
    "warnings.filterwarnings('ignore')"
   ]
  },
  {
   "cell_type": "markdown",
   "id": "d4dbdabd",
   "metadata": {},
   "source": [
    "# Import data"
   ]
  },
  {
   "cell_type": "code",
   "execution_count": 25,
   "id": "01afa62c",
   "metadata": {},
   "outputs": [],
   "source": [
    "dialogs_data_path = \"../data/merged_data/dialogs_data_all.csv\"\n",
    "dialogs_users_path = \"../data/merged_data/dialogs_users_all.csv\""
   ]
  },
  {
   "cell_type": "code",
   "execution_count": 26,
   "id": "2ef615a8",
   "metadata": {},
   "outputs": [],
   "source": [
    "df = pd.read_csv(dialogs_data_path)\n",
    "uf = pd.read_csv(dialogs_users_path)"
   ]
  },
  {
   "cell_type": "markdown",
   "id": "c9685e6b",
   "metadata": {},
   "source": [
    "# Preparing data"
   ]
  },
  {
   "cell_type": "markdown",
   "id": "623e446e",
   "metadata": {},
   "source": [
    "### Тут я змінив деякі поля в основному фреймі, вивів фрейми груп та юзерів і створив декілька функцій, які полегшать мені життя "
   ]
  },
  {
   "cell_type": "markdown",
   "id": "3c482477",
   "metadata": {},
   "source": [
    "### Getting my id"
   ]
  },
  {
   "cell_type": "code",
   "execution_count": 39,
   "id": "8d6fe315",
   "metadata": {},
   "outputs": [],
   "source": [
    "my_id = 0"
   ]
  },
  {
   "cell_type": "markdown",
   "id": "747b3091",
   "metadata": {},
   "source": [
    "### Correcting from/to id"
   ]
  },
  {
   "cell_type": "code",
   "execution_count": 40,
   "id": "39461016",
   "metadata": {},
   "outputs": [
    {
     "ename": "KeyError",
     "evalue": "'from_id'",
     "output_type": "error",
     "traceback": [
      "\u001b[1;31m---------------------------------------------------------------------------\u001b[0m",
      "\u001b[1;31mKeyError\u001b[0m                                  Traceback (most recent call last)",
      "\u001b[1;32mA:\\Programming\\anaconda\\lib\\site-packages\\pandas\\core\\indexes\\base.py\u001b[0m in \u001b[0;36mget_loc\u001b[1;34m(self, key, method, tolerance)\u001b[0m\n\u001b[0;32m   3360\u001b[0m             \u001b[1;32mtry\u001b[0m\u001b[1;33m:\u001b[0m\u001b[1;33m\u001b[0m\u001b[1;33m\u001b[0m\u001b[0m\n\u001b[1;32m-> 3361\u001b[1;33m                 \u001b[1;32mreturn\u001b[0m \u001b[0mself\u001b[0m\u001b[1;33m.\u001b[0m\u001b[0m_engine\u001b[0m\u001b[1;33m.\u001b[0m\u001b[0mget_loc\u001b[0m\u001b[1;33m(\u001b[0m\u001b[0mcasted_key\u001b[0m\u001b[1;33m)\u001b[0m\u001b[1;33m\u001b[0m\u001b[1;33m\u001b[0m\u001b[0m\n\u001b[0m\u001b[0;32m   3362\u001b[0m             \u001b[1;32mexcept\u001b[0m \u001b[0mKeyError\u001b[0m \u001b[1;32mas\u001b[0m \u001b[0merr\u001b[0m\u001b[1;33m:\u001b[0m\u001b[1;33m\u001b[0m\u001b[1;33m\u001b[0m\u001b[0m\n",
      "\u001b[1;32mA:\\Programming\\anaconda\\lib\\site-packages\\pandas\\_libs\\index.pyx\u001b[0m in \u001b[0;36mpandas._libs.index.IndexEngine.get_loc\u001b[1;34m()\u001b[0m\n",
      "\u001b[1;32mA:\\Programming\\anaconda\\lib\\site-packages\\pandas\\_libs\\index.pyx\u001b[0m in \u001b[0;36mpandas._libs.index.IndexEngine.get_loc\u001b[1;34m()\u001b[0m\n",
      "\u001b[1;32mpandas\\_libs\\hashtable_class_helper.pxi\u001b[0m in \u001b[0;36mpandas._libs.hashtable.PyObjectHashTable.get_item\u001b[1;34m()\u001b[0m\n",
      "\u001b[1;32mpandas\\_libs\\hashtable_class_helper.pxi\u001b[0m in \u001b[0;36mpandas._libs.hashtable.PyObjectHashTable.get_item\u001b[1;34m()\u001b[0m\n",
      "\u001b[1;31mKeyError\u001b[0m: 'from_id'",
      "\nThe above exception was the direct cause of the following exception:\n",
      "\u001b[1;31mKeyError\u001b[0m                                  Traceback (most recent call last)",
      "\u001b[1;32m~\\AppData\\Local\\Temp/ipykernel_10760/1203608189.py\u001b[0m in \u001b[0;36m<module>\u001b[1;34m\u001b[0m\n\u001b[1;32m----> 1\u001b[1;33m \u001b[0mdf\u001b[0m\u001b[1;33m[\u001b[0m\u001b[1;34m'user_id'\u001b[0m\u001b[1;33m]\u001b[0m \u001b[1;33m=\u001b[0m \u001b[0mdf\u001b[0m\u001b[1;33m[\u001b[0m\u001b[1;34m'from_id'\u001b[0m\u001b[1;33m]\u001b[0m\u001b[1;33m\u001b[0m\u001b[1;33m\u001b[0m\u001b[0m\n\u001b[0m\u001b[0;32m      2\u001b[0m \u001b[0mdf\u001b[0m\u001b[1;33m[\u001b[0m\u001b[1;34m'user_id'\u001b[0m\u001b[1;33m]\u001b[0m \u001b[1;33m=\u001b[0m \u001b[0mdf\u001b[0m\u001b[1;33m[\u001b[0m\u001b[1;34m'user_id'\u001b[0m\u001b[1;33m]\u001b[0m\u001b[1;33m.\u001b[0m\u001b[0mapply\u001b[0m\u001b[1;33m(\u001b[0m\u001b[1;32mlambda\u001b[0m \u001b[0mx\u001b[0m\u001b[1;33m:\u001b[0m \u001b[0mnp\u001b[0m\u001b[1;33m.\u001b[0m\u001b[0mint64\u001b[0m\u001b[1;33m(\u001b[0m\u001b[0mx\u001b[0m\u001b[1;33m.\u001b[0m\u001b[0mstrip\u001b[0m\u001b[1;33m(\u001b[0m\u001b[1;33m)\u001b[0m\u001b[1;33m.\u001b[0m\u001b[0msplit\u001b[0m\u001b[1;33m(\u001b[0m\u001b[1;34m'='\u001b[0m\u001b[1;33m)\u001b[0m\u001b[1;33m[\u001b[0m\u001b[1;33m-\u001b[0m\u001b[1;36m1\u001b[0m\u001b[1;33m]\u001b[0m\u001b[1;33m.\u001b[0m\u001b[0mreplace\u001b[0m\u001b[1;33m(\u001b[0m\u001b[1;34m\")\"\u001b[0m\u001b[1;33m,\u001b[0m \u001b[1;34m\"\"\u001b[0m\u001b[1;33m)\u001b[0m\u001b[1;33m)\u001b[0m \u001b[1;32mif\u001b[0m \u001b[0mtype\u001b[0m\u001b[1;33m(\u001b[0m\u001b[0mx\u001b[0m\u001b[1;33m)\u001b[0m \u001b[1;33m!=\u001b[0m \u001b[0mint\u001b[0m \u001b[1;32mand\u001b[0m \u001b[0mtype\u001b[0m\u001b[1;33m(\u001b[0m\u001b[0mx\u001b[0m\u001b[1;33m)\u001b[0m \u001b[1;33m!=\u001b[0m \u001b[0mfloat\u001b[0m \u001b[1;32melse\u001b[0m \u001b[0mx\u001b[0m\u001b[1;33m)\u001b[0m\u001b[1;33m\u001b[0m\u001b[1;33m\u001b[0m\u001b[0m\n\u001b[0;32m      3\u001b[0m \u001b[0mdf\u001b[0m\u001b[1;33m[\u001b[0m\u001b[1;34m'to_id'\u001b[0m\u001b[1;33m]\u001b[0m \u001b[1;33m=\u001b[0m \u001b[0mdf\u001b[0m\u001b[1;33m[\u001b[0m\u001b[1;34m'to_id'\u001b[0m\u001b[1;33m]\u001b[0m\u001b[1;33m.\u001b[0m\u001b[0mapply\u001b[0m\u001b[1;33m(\u001b[0m\u001b[1;32mlambda\u001b[0m \u001b[0mx\u001b[0m\u001b[1;33m:\u001b[0m \u001b[0mnp\u001b[0m\u001b[1;33m.\u001b[0m\u001b[0mint64\u001b[0m\u001b[1;33m(\u001b[0m\u001b[0mx\u001b[0m\u001b[1;33m.\u001b[0m\u001b[0mstrip\u001b[0m\u001b[1;33m(\u001b[0m\u001b[1;33m)\u001b[0m\u001b[1;33m.\u001b[0m\u001b[0msplit\u001b[0m\u001b[1;33m(\u001b[0m\u001b[1;34m'='\u001b[0m\u001b[1;33m)\u001b[0m\u001b[1;33m[\u001b[0m\u001b[1;33m-\u001b[0m\u001b[1;36m1\u001b[0m\u001b[1;33m]\u001b[0m\u001b[1;33m.\u001b[0m\u001b[0mreplace\u001b[0m\u001b[1;33m(\u001b[0m\u001b[1;34m\")\"\u001b[0m\u001b[1;33m,\u001b[0m \u001b[1;34m\"\"\u001b[0m\u001b[1;33m)\u001b[0m\u001b[1;33m)\u001b[0m \u001b[1;32mif\u001b[0m \u001b[0mtype\u001b[0m\u001b[1;33m(\u001b[0m\u001b[0mx\u001b[0m\u001b[1;33m)\u001b[0m \u001b[1;33m!=\u001b[0m \u001b[0mint\u001b[0m \u001b[1;32mand\u001b[0m \u001b[0mtype\u001b[0m\u001b[1;33m(\u001b[0m\u001b[0mx\u001b[0m\u001b[1;33m)\u001b[0m \u001b[1;33m!=\u001b[0m \u001b[0mfloat\u001b[0m \u001b[1;32melse\u001b[0m \u001b[0mx\u001b[0m\u001b[1;33m)\u001b[0m\u001b[1;33m\u001b[0m\u001b[1;33m\u001b[0m\u001b[0m\n\u001b[0;32m      4\u001b[0m \u001b[0mdf\u001b[0m\u001b[1;33m[\u001b[0m\u001b[1;34m'user_id'\u001b[0m\u001b[1;33m]\u001b[0m \u001b[1;33m=\u001b[0m \u001b[0mdf\u001b[0m\u001b[1;33m.\u001b[0m\u001b[0mapply\u001b[0m\u001b[1;33m(\u001b[0m\u001b[1;32mlambda\u001b[0m \u001b[0mx\u001b[0m\u001b[1;33m:\u001b[0m \u001b[0mx\u001b[0m\u001b[1;33m[\u001b[0m\u001b[1;34m'dialog_id'\u001b[0m\u001b[1;33m]\u001b[0m \u001b[1;32mif\u001b[0m \u001b[0mnp\u001b[0m\u001b[1;33m.\u001b[0m\u001b[0misnan\u001b[0m\u001b[1;33m(\u001b[0m\u001b[0mx\u001b[0m\u001b[1;33m[\u001b[0m\u001b[1;34m'user_id'\u001b[0m\u001b[1;33m]\u001b[0m\u001b[1;33m)\u001b[0m \u001b[1;32mand\u001b[0m \u001b[0mx\u001b[0m\u001b[1;33m[\u001b[0m\u001b[1;34m'dialog_id'\u001b[0m\u001b[1;33m]\u001b[0m\u001b[1;33m>\u001b[0m\u001b[1;36m0\u001b[0m \u001b[1;32melse\u001b[0m \u001b[0mx\u001b[0m\u001b[1;33m[\u001b[0m\u001b[1;34m'user_id'\u001b[0m\u001b[1;33m]\u001b[0m\u001b[1;33m,\u001b[0m \u001b[0maxis\u001b[0m\u001b[1;33m=\u001b[0m\u001b[1;36m1\u001b[0m\u001b[1;33m)\u001b[0m\u001b[1;33m\u001b[0m\u001b[1;33m\u001b[0m\u001b[0m\n\u001b[0;32m      5\u001b[0m \u001b[0mdf\u001b[0m\u001b[1;33m[\u001b[0m\u001b[1;34m'user_id'\u001b[0m\u001b[1;33m]\u001b[0m \u001b[1;33m=\u001b[0m \u001b[0mdf\u001b[0m\u001b[1;33m[\u001b[0m\u001b[1;34m'user_id'\u001b[0m\u001b[1;33m]\u001b[0m\u001b[1;33m.\u001b[0m\u001b[0mapply\u001b[0m\u001b[1;33m(\u001b[0m\u001b[1;32mlambda\u001b[0m \u001b[0mx\u001b[0m\u001b[1;33m:\u001b[0m \u001b[1;36m0\u001b[0m \u001b[1;32mif\u001b[0m \u001b[0mnp\u001b[0m\u001b[1;33m.\u001b[0m\u001b[0misnan\u001b[0m\u001b[1;33m(\u001b[0m\u001b[0mx\u001b[0m\u001b[1;33m)\u001b[0m \u001b[1;32melse\u001b[0m \u001b[0mx\u001b[0m\u001b[1;33m)\u001b[0m\u001b[1;33m\u001b[0m\u001b[1;33m\u001b[0m\u001b[0m\n",
      "\u001b[1;32mA:\\Programming\\anaconda\\lib\\site-packages\\pandas\\core\\frame.py\u001b[0m in \u001b[0;36m__getitem__\u001b[1;34m(self, key)\u001b[0m\n\u001b[0;32m   3456\u001b[0m             \u001b[1;32mif\u001b[0m \u001b[0mself\u001b[0m\u001b[1;33m.\u001b[0m\u001b[0mcolumns\u001b[0m\u001b[1;33m.\u001b[0m\u001b[0mnlevels\u001b[0m \u001b[1;33m>\u001b[0m \u001b[1;36m1\u001b[0m\u001b[1;33m:\u001b[0m\u001b[1;33m\u001b[0m\u001b[1;33m\u001b[0m\u001b[0m\n\u001b[0;32m   3457\u001b[0m                 \u001b[1;32mreturn\u001b[0m \u001b[0mself\u001b[0m\u001b[1;33m.\u001b[0m\u001b[0m_getitem_multilevel\u001b[0m\u001b[1;33m(\u001b[0m\u001b[0mkey\u001b[0m\u001b[1;33m)\u001b[0m\u001b[1;33m\u001b[0m\u001b[1;33m\u001b[0m\u001b[0m\n\u001b[1;32m-> 3458\u001b[1;33m             \u001b[0mindexer\u001b[0m \u001b[1;33m=\u001b[0m \u001b[0mself\u001b[0m\u001b[1;33m.\u001b[0m\u001b[0mcolumns\u001b[0m\u001b[1;33m.\u001b[0m\u001b[0mget_loc\u001b[0m\u001b[1;33m(\u001b[0m\u001b[0mkey\u001b[0m\u001b[1;33m)\u001b[0m\u001b[1;33m\u001b[0m\u001b[1;33m\u001b[0m\u001b[0m\n\u001b[0m\u001b[0;32m   3459\u001b[0m             \u001b[1;32mif\u001b[0m \u001b[0mis_integer\u001b[0m\u001b[1;33m(\u001b[0m\u001b[0mindexer\u001b[0m\u001b[1;33m)\u001b[0m\u001b[1;33m:\u001b[0m\u001b[1;33m\u001b[0m\u001b[1;33m\u001b[0m\u001b[0m\n\u001b[0;32m   3460\u001b[0m                 \u001b[0mindexer\u001b[0m \u001b[1;33m=\u001b[0m \u001b[1;33m[\u001b[0m\u001b[0mindexer\u001b[0m\u001b[1;33m]\u001b[0m\u001b[1;33m\u001b[0m\u001b[1;33m\u001b[0m\u001b[0m\n",
      "\u001b[1;32mA:\\Programming\\anaconda\\lib\\site-packages\\pandas\\core\\indexes\\base.py\u001b[0m in \u001b[0;36mget_loc\u001b[1;34m(self, key, method, tolerance)\u001b[0m\n\u001b[0;32m   3361\u001b[0m                 \u001b[1;32mreturn\u001b[0m \u001b[0mself\u001b[0m\u001b[1;33m.\u001b[0m\u001b[0m_engine\u001b[0m\u001b[1;33m.\u001b[0m\u001b[0mget_loc\u001b[0m\u001b[1;33m(\u001b[0m\u001b[0mcasted_key\u001b[0m\u001b[1;33m)\u001b[0m\u001b[1;33m\u001b[0m\u001b[1;33m\u001b[0m\u001b[0m\n\u001b[0;32m   3362\u001b[0m             \u001b[1;32mexcept\u001b[0m \u001b[0mKeyError\u001b[0m \u001b[1;32mas\u001b[0m \u001b[0merr\u001b[0m\u001b[1;33m:\u001b[0m\u001b[1;33m\u001b[0m\u001b[1;33m\u001b[0m\u001b[0m\n\u001b[1;32m-> 3363\u001b[1;33m                 \u001b[1;32mraise\u001b[0m \u001b[0mKeyError\u001b[0m\u001b[1;33m(\u001b[0m\u001b[0mkey\u001b[0m\u001b[1;33m)\u001b[0m \u001b[1;32mfrom\u001b[0m \u001b[0merr\u001b[0m\u001b[1;33m\u001b[0m\u001b[1;33m\u001b[0m\u001b[0m\n\u001b[0m\u001b[0;32m   3364\u001b[0m \u001b[1;33m\u001b[0m\u001b[0m\n\u001b[0;32m   3365\u001b[0m         \u001b[1;32mif\u001b[0m \u001b[0mis_scalar\u001b[0m\u001b[1;33m(\u001b[0m\u001b[0mkey\u001b[0m\u001b[1;33m)\u001b[0m \u001b[1;32mand\u001b[0m \u001b[0misna\u001b[0m\u001b[1;33m(\u001b[0m\u001b[0mkey\u001b[0m\u001b[1;33m)\u001b[0m \u001b[1;32mand\u001b[0m \u001b[1;32mnot\u001b[0m \u001b[0mself\u001b[0m\u001b[1;33m.\u001b[0m\u001b[0mhasnans\u001b[0m\u001b[1;33m:\u001b[0m\u001b[1;33m\u001b[0m\u001b[1;33m\u001b[0m\u001b[0m\n",
      "\u001b[1;31mKeyError\u001b[0m: 'from_id'"
     ]
    }
   ],
   "source": [
    "df['user_id'] = df['from_id']\n",
    "df['user_id'] = df['user_id'].apply(lambda x: np.int64(x.strip().split('=')[-1].replace(\")\", \"\")) if type(x) != int and type(x) != float else x)\n",
    "df['to_id'] = df['to_id'].apply(lambda x: np.int64(x.strip().split('=')[-1].replace(\")\", \"\")) if type(x) != int and type(x) != float else x)\n",
    "df['user_id'] = df.apply(lambda x: x['dialog_id'] if np.isnan(x['user_id']) and x['dialog_id']>0 else x['user_id'], axis=1)\n",
    "df['user_id'] = df['user_id'].apply(lambda x: 0 if np.isnan(x) else x)\n",
    "df = df.astype({'user_id':'int'})\n",
    "df = df[['id', 'date', 'user_id', 'message', 'type', 'duration', 'dialog_id']]"
   ]
  },
  {
   "cell_type": "markdown",
   "id": "1d4c8907",
   "metadata": {},
   "source": [
    "### Correcting dates"
   ]
  },
  {
   "cell_type": "code",
   "execution_count": null,
   "id": "ffef4544",
   "metadata": {},
   "outputs": [],
   "source": [
    "df['date'] = pd.to_datetime(df['date']).dt.date"
   ]
  },
  {
   "cell_type": "markdown",
   "id": "c054366c",
   "metadata": {},
   "source": [
    "### Making data frame for groups"
   ]
  },
  {
   "cell_type": "code",
   "execution_count": null,
   "id": "ac62710c",
   "metadata": {},
   "outputs": [],
   "source": [
    "def add_group_to_ug(gid):\n",
    "    ug[gid] = []\n",
    "    \n",
    "\n",
    "def add_user_to_ug(uid, gid):\n",
    "    ug[gid].append(uid)\n",
    "    \n",
    "    \n",
    "def get_users_of_group(gid):\n",
    "    return pd.DataFrame({'user_id':ug[gid]}).merge(users, on='user_id', how='inner')\n",
    "    \n",
    "\n",
    "def get_users_of_group_by_name(gname):\n",
    "    i = groups[groups['name']==gname]['dialog_id']\n",
    "    return pd.DataFrame({'user_id':ug[i.item()]}).merge(users, on='user_id', how='inner')\n",
    "    \n",
    "\n",
    "def get_group_id_by_name(gname):\n",
    "    i = groups[groups['name']==gname]['dialog_id']\n",
    "    if not i.empty:\n",
    "        return i.item()"
   ]
  },
  {
   "cell_type": "code",
   "execution_count": null,
   "id": "ac486628",
   "metadata": {},
   "outputs": [],
   "source": [
    "ug = {}\n",
    "\n",
    "groups = uf[uf['type'] == 'Group']\n",
    "gf = groups.groupby('dialog_id', as_index=False)['users'].count().rename(columns = {'users':'count_of_users'})\n",
    "gf = gf.merge(groups, on='dialog_id', how='inner').groupby('dialog_id', as_index=False).last().loc[0:, 'dialog_id':'name']\n",
    "gtmp = gf.merge(df.loc[0:, ['dialog_id', 'message', 'type']], on='dialog_id', how='inner')\n",
    "gtmp = gtmp.groupby('dialog_id', as_index=False)['message', 'type'].count().rename(columns={'message':'count_of_text_messages', 'type':'total_messages'})\n",
    "gf = gf.merge(gtmp, on='dialog_id', how='inner')\n",
    "gf = gf.loc[0:, ['dialog_id', 'name', 'count_of_users', 'count_of_text_messages', 'total_messages']]\n",
    "gf['dialog_id'].apply(add_group_to_ug)\n",
    "groups = gf.groupby('name', as_index=False).first()"
   ]
  },
  {
   "cell_type": "markdown",
   "id": "5d7d1a35",
   "metadata": {},
   "source": [
    "### Making data frame for users"
   ]
  },
  {
   "cell_type": "code",
   "execution_count": null,
   "id": "bd5674a7",
   "metadata": {},
   "outputs": [],
   "source": [
    "u = uf[uf['type'] == 'Private dialog']\n",
    "users = u.groupby('dialog_id', as_index=False).last().iloc[0:, 0:2]\n",
    "users['private'] = True\n",
    "\n",
    "utmp = pd.DataFrame()\n",
    "\n",
    "for i in range(uf.shape[0]):\n",
    "    tmpdict = ast.literal_eval(uf.loc[i, 'users'])\n",
    "    utmp = utmp.append(ast.literal_eval(uf.loc[i, 'users']), ignore_index=True)\n",
    "    if (uf.loc[i, 'type'] == 'Group'):\n",
    "        add_user_to_ug(tmpdict['user_id'], uf.loc[i, 'dialog_id'])\n",
    "    \n",
    "utmp = utmp.rename(columns={'user_id':'dialog_id', 'first_name': 'name'})\n",
    "del utmp['last_name']\n",
    "del utmp['phone']\n",
    "del utmp['username']\n",
    "utmp['private'] = False\n",
    "\n",
    "users = users.append(utmp, ignore_index=True)\n",
    "users = users.groupby('dialog_id', as_index=False).first()\n",
    "\n",
    "utmp = users.rename(columns={'dialog_id':'user_id'}).merge(df.loc[0:, ['user_id', 'message', 'type']], on = 'user_id', how='inner')\n",
    "utmp = utmp.groupby('user_id', as_index=False)[['message', 'type']].count().rename(columns={'user_id':'dialog_id', 'message':'count_of_text_messages','type':'total_messages'})\n",
    "users = users.merge(utmp, on='dialog_id', how='inner').rename(columns={'dialog_id':'user_id'}).astype({'user_id':'int'})\n",
    "\n",
    "# users[users['private'] == True].sort_values('count_of_text_messages', ascending=False).head(200)"
   ]
  },
  {
   "cell_type": "markdown",
   "id": "ced570e9",
   "metadata": {},
   "source": [
    "# Data analysis"
   ]
  },
  {
   "cell_type": "markdown",
   "id": "e9070fdc",
   "metadata": {},
   "source": [
    "# Те, що хочу на дз 6 позначав *** після питання"
   ]
  },
  {
   "cell_type": "markdown",
   "id": "3b478272",
   "metadata": {},
   "source": [
    "## Мені сподобалися scatter/bubble plots тому перші 5 графіків такі"
   ]
  },
  {
   "cell_type": "markdown",
   "id": "d6826d6d",
   "metadata": {},
   "source": [
    "## 1. Amount of word \"лол/lol\" and total amount of text messages by each user in certain group"
   ]
  },
  {
   "cell_type": "markdown",
   "id": "5aecc6f6",
   "metadata": {},
   "source": [
    "### Спочатку я вирішив знайти конкретне слово і зрівняти з кількістю всіх повідомлень для кожного користувача в групі"
   ]
  },
  {
   "cell_type": "code",
   "execution_count": null,
   "id": "545302c0",
   "metadata": {
    "scrolled": false
   },
   "outputs": [],
   "source": [
    "gname = 'блото уйобіщ'\n",
    "group_messages = df[df['dialog_id']==get_group_id_by_name(gname)]\n",
    "search_for = 'лол|lol'\n",
    "gu = get_users_of_group_by_name(gname)\n",
    "\n",
    "gtmp = gu.merge(group_messages, on='user_id', how='inner')\n",
    "gtmp = gtmp.groupby('user_id', as_index=False).count()[['user_id', 'message']].rename(columns={'message':'in_group_messages'})\n",
    "gu = gu.merge(gtmp, on='user_id', how='inner')\n",
    "sr = df[df['dialog_id']==get_group_id_by_name(gname)]\n",
    "sr = sr[sr['message'].str.contains(search_for, na = False, case = False, regex=True)]\n",
    "sr = sr.groupby('user_id', as_index = False)['message'].count().rename(columns={'message':'matches'})\n",
    "sr = sr.merge(gu, on='user_id', how='inner')[['name', 'in_group_messages', 'matches']]\n",
    "sr['percentage'] = sr['matches']/sr['in_group_messages']\n",
    "data = sr.loc[0:, 'name':'percentage']\n",
    "fig = px.scatter(data, x='in_group_messages', y=\"matches\", color='name', size_max=100,\n",
    "                 labels={'matches':'Кількість використань шуканого слова',\n",
    "                         'in_group_messages':'Загалом повідомлень в групі',\n",
    "                         'name':'Нік',\n",
    "                         'percentage':'Процентне співвідношення'},\n",
    "                 title='Кількість слів \"lol\"/\"лол\" до всіх текстових повідомлень в групі')\n",
    "fig.update_traces(marker=dict(size = 12, line=dict(width=2, color='DarkSlateGrey')), selector=dict(mode='markers'))\n",
    "fig.show()"
   ]
  },
  {
   "cell_type": "markdown",
   "id": "6e1a9323",
   "metadata": {},
   "source": [
    "## 2. Median length of message written by users of certain group with their total count of messages in that group ***"
   ]
  },
  {
   "cell_type": "markdown",
   "id": "47a3dd74",
   "metadata": {},
   "source": [
    "### Хотів знайти середню довжину повідомлень кожного користувача в групі, порівнюю чи з сумарною кількісю його повідомлень в групі, але подумав, що медіана буде цікава також щоб зрівняти чи будуть ці показники подібними (там можна було використати метод describe() і не паритися з функціями і еплаями, але коли писав то забув про нього, як завжди). Брав для графіків довжину меншу 100, бо в групі є бот, в якого довжина повідомлень завжди більша і через нього графікі стають не такими гарними"
   ]
  },
  {
   "cell_type": "code",
   "execution_count": null,
   "id": "7cec952f",
   "metadata": {
    "scrolled": false
   },
   "outputs": [],
   "source": [
    "def get_users_messages_median_len(uid):\n",
    "    return (gtmp[gtmp['user_id'] == uid]['message'].str.len()).median()\n",
    "\n",
    "\n",
    "def get_users_messages_average_len(uid):\n",
    "    return (gtmp[gtmp['user_id'] == uid]['message'].str.len()).mean()\n",
    "\n",
    "\n",
    "gname = 'блото уйобіщ'\n",
    "group_messages = df[df['dialog_id']==get_group_id_by_name(gname)]\n",
    "gu = get_users_of_group_by_name(gname)\n",
    "\n",
    "gtmp = gu.merge(group_messages, on='user_id', how='inner')\n",
    "gtmp = gtmp.groupby('user_id', as_index=False).count()[['user_id', 'message']].rename(columns={'message':'in_group_messages'})\n",
    "gu = gu.merge(gtmp, on='user_id', how='inner')[['user_id', 'name', 'in_group_messages']]\n",
    "gtmp = gu.merge(df, on='user_id', how='inner')\n",
    "\n",
    "gu['average_len'] = gu['user_id'].apply(get_users_messages_average_len)\n",
    "gu['median_len'] = gu['user_id'].apply(get_users_messages_median_len)\n",
    "\n",
    "data = gu[gu['average_len']<100].loc[0:, 'name':'median_len']\n",
    "fig = px.scatter(data, x='in_group_messages', y=\"average_len\", color='name',\n",
    "                 labels={'average_len':'Середня довжина повідомлень',\n",
    "                         'in_group_messages':'Загалом повідомлень в групі',\n",
    "                         'name':'Нік'},\n",
    "                 title='Середня довжина всіх повідомлень користувча в групі')\n",
    "fig.update_traces(marker=dict(size=12, line=dict(width=2, color='DarkSlateGrey')), selector=dict(mode='markers'))\n",
    "fig.show()\n",
    "fig = px.scatter(data, x='in_group_messages', y=\"median_len\", color='name',\n",
    "                 labels={'median_len':'Медіана довжин повідомлень',\n",
    "                         'in_group_messages':'Загалом повідомлень в групі',\n",
    "                         'name':'Нік'},\n",
    "                 title='Медіана довжин всіх повідомлень користувча в групі')\n",
    "fig.update_traces(marker=dict(size=12, line=dict(width=2, color='DarkSlateGrey')), selector=dict(mode='markers'))\n",
    "fig.show()\n",
    "fig = px.scatter(data, x='average_len', y=\"median_len\", color='name',\n",
    "                 labels={'median_len':'Медіана довжин повідомлень',\n",
    "                         'average_len':'Середня довжина повідомлень',\n",
    "                         'name':'Нік'},\n",
    "                 title='Медіана довжин всіх повідомлень користувча в групі')\n",
    "fig.update_traces(marker=dict(size=12, line=dict(width=2, color='DarkSlateGrey')), selector=dict(mode='markers'))\n",
    "fig.show()\n"
   ]
  },
  {
   "cell_type": "markdown",
   "id": "dc6a9a3a",
   "metadata": {},
   "source": [
    "### Графіки доволі сильно відрізняються, не завжди все так очевидно. Деякі користувачі пишуть багато коротких, повідомлень і менше але дуже довгих, тому медіана в них менша ніж в інших, а середнє значення більше. І медіана в усіх менша за середнє"
   ]
  },
  {
   "cell_type": "markdown",
   "id": "e9e881b9",
   "metadata": {},
   "source": [
    "## 3. Count of video and audio messages sended by users I have private dialog with in all groups available to me (size of circles represents average duration)"
   ]
  },
  {
   "cell_type": "markdown",
   "id": "66b968be",
   "metadata": {},
   "source": [
    "### Далі вирішив зробити бабл плот, з кількістю у кожного користувача з моїх приватних діалогів відео і войсів, і зрівняти їх середню тривалість."
   ]
  },
  {
   "cell_type": "code",
   "execution_count": null,
   "id": "81115168",
   "metadata": {
    "scrolled": false
   },
   "outputs": [],
   "source": [
    "pr = users[users['private']==True]\n",
    "prdf = pr.merge(df, on='user_id', how='inner')\n",
    "prdf = prdf[~np.isnan(prdf['duration'])]\n",
    "vc = prdf[prdf['type']=='video'].groupby('user_id', as_index=False).count()[['user_id', 'duration']].rename(columns={'duration':'video_count'})\n",
    "prdf = prdf.merge(vc, on='user_id', how='left') \n",
    "prdf['average_duration'] = prdf['user_id'].apply(lambda x: prdf[prdf['user_id']==x]['duration'].sum())\n",
    "ac = prdf[prdf['type']=='voice'].groupby('user_id', as_index=False).count()[['user_id', 'duration']].rename(columns={'duration':'audio_count'})\n",
    "prdf = prdf.merge(ac, on='user_id', how='left') \n",
    "prdf['average_duration'] /= prdf.apply(lambda x: x['video_count'] if np.isnan(x['audio_count']) else \n",
    "                                       (x['audio_count'] if np.isnan(x['video_count']) else x['video_count']+x['audio_count']),\n",
    "                                       axis=1)\n",
    "data = prdf[['name', 'video_count', 'audio_count', 'average_duration']]\n",
    "fig = px.scatter(data, x='video_count', y=\"audio_count\", color='name', size=\"average_duration\", opacity=0.05,\n",
    "                 width = 980, height = 600, size_max=300, range_x=(-500, 3000), range_y=(-200, 800),\n",
    "                 labels={'video_count':'Кількість відео, пересланих користувачем',\n",
    "                         'audio_count':'Кількість голосових повідомлень користувача',\n",
    "                         'name':'Нік',\n",
    "                         'average_duration':'Середня тривалість відео та аудіо'},\n",
    "                 title='Кількість відео та аудіо учасників однієї групи (радіус кола - середня тривалість)')\n",
    "fig.update_traces(marker=dict(line=dict(width=2, color='DarkSlateGrey')), selector=dict(mode='markers'))\n",
    "\n",
    "fig.show()"
   ]
  },
  {
   "cell_type": "markdown",
   "id": "1d444ba9",
   "metadata": {},
   "source": [
    "### Як я й думав, якщо хтось записуэ такы повыдомлення часто, то середня їх тривалість досить мала. Навпаки, звичайно, це не працює"
   ]
  },
  {
   "cell_type": "markdown",
   "id": "3737b4d0",
   "metadata": {},
   "source": [
    "## 4. Amount of stickers in certain group's users and percentage of total count of messages in it (size of the circle represents it) "
   ]
  },
  {
   "cell_type": "markdown",
   "id": "35156b6d",
   "metadata": {},
   "source": [
    "### Ідеї на бабл/скетр плоти закінчувались, а добити 5 таких хотілося, тому в хід пішли інші типи повідомлень. Я вирішив знайти відсоток використання стікерів кожним з користувачів і відобразити його як радіус. Радіус кола, звичайно, не надає тут ніякої додаткової візуалізації, але полегшує сприйняття графіку"
   ]
  },
  {
   "cell_type": "code",
   "execution_count": null,
   "id": "134eec1a",
   "metadata": {},
   "outputs": [],
   "source": [
    "gname = 'Примати20х2'\n",
    "group_messages = df[df['dialog_id']==get_group_id_by_name(gname)]\n",
    "gu = get_users_of_group_by_name(gname)\n",
    "\n",
    "gtmp1 = gu.merge(group_messages, on='user_id', how='inner')\n",
    "gtmp2 = gtmp1[gtmp1['type'] == 'sticker'].groupby('user_id', as_index=False).count().rename(columns={'type':'count_of_stickers'}).loc[0:, ['user_id', 'count_of_stickers']]\n",
    "gtmp2 = gtmp2.merge(gtmp1.groupby('user_id', as_index=False).count().rename(columns={'type':'in_group_all_types'}).loc[0:, ['user_id', 'in_group_all_types']], on = 'user_id', how='inner')\n",
    "gu = gu.merge(gtmp2, on='user_id', how='inner')\n",
    "gu['percentage'] = gu['count_of_stickers']/gu['in_group_all_types']\n",
    "data = gu.loc[0:, ['name', 'count_of_stickers', 'in_group_all_types', 'percentage']]\n",
    "fig = px.scatter(data, x='in_group_all_types', y=\"count_of_stickers\", size=\"percentage\", color='name', size_max=35,\n",
    "                 labels={'count_of_stickers':'Кількість стікерів',\n",
    "                         'in_group_all_types':'Загалом повідомлень всіх типів в групі',\n",
    "                         'name':'Нік',\n",
    "                         'percentage':'Процентне співвідношення'},\n",
    "                title='Кількість стікерів до всіх повідомлень в групі (радіус кола - процентне співвідношення)')\n",
    "fig.update_traces(marker=dict(line=dict(width=2, color='DarkSlateGrey')), selector=dict(mode='markers'))\n",
    "fig.show()\n"
   ]
  },
  {
   "cell_type": "markdown",
   "id": "8b8f1bc6",
   "metadata": {},
   "source": [
    "## 5. Count of audio and video messages of groups and their ratio to all group messages"
   ]
  },
  {
   "cell_type": "markdown",
   "id": "086241ff",
   "metadata": {},
   "source": [
    "### Тут я вирішив дізнатися, в яких групах найбільше використовують войси й відео і взяв фішку з радіусом і процентами з минулого графіку"
   ]
  },
  {
   "cell_type": "code",
   "execution_count": null,
   "id": "37ff8199",
   "metadata": {},
   "outputs": [],
   "source": [
    "gdf = groups\n",
    "gtmp = groups.merge(df, on='dialog_id')\n",
    "gdf = gdf.merge(gtmp[gtmp['type'] == 'video'].groupby('dialog_id', as_index=False).count().rename(columns={'type':'videos_count'})[['dialog_id', 'videos_count']], on='dialog_id')\n",
    "gdf = gdf.merge(gtmp[gtmp['type'] == 'voice'].groupby('dialog_id', as_index=False).count().rename(columns={'type':'audios_count'})[['dialog_id', 'audios_count']], on='dialog_id')\n",
    "gdf['percentage'] = (gdf['videos_count']+gdf['audios_count'])/gdf['total_messages']\n",
    "data = gdf[['name', 'percentage', 'videos_count', 'audios_count']]\n",
    "\n",
    "fig = px.scatter(data, x='audios_count', y=\"videos_count\", size=\"percentage\", color='name', symbol='name', size_max=35,\n",
    "                 labels={'audios_count':'Кількість голосових',\n",
    "                         'videos_count':'Кількість відео',\n",
    "                         'name':'Назва групи',\n",
    "                         'percentage':'Процентне співвідношення до всіх'},\n",
    "                title='Кількість відео і голосових до всіх повідомлень в групі (розмір фігури - процентне співвідношення)')\n",
    "fig.update_traces(marker=dict(line=dict(width=2, color='DarkSlateGrey')), selector=dict(mode='markers'))\n",
    "fig.show()"
   ]
  },
  {
   "cell_type": "markdown",
   "id": "f6930f6d",
   "metadata": {},
   "source": [
    "### Не впевнений, що різні форми маркерів - хороша ідея, але виглядає непогано і сприйняття не дуже псує"
   ]
  },
  {
   "cell_type": "markdown",
   "id": "fdab45b9",
   "metadata": {},
   "source": [
    "### Нарешті закінчив придуману самим собою норму цих графікі (+ 1 миска рис і кішко-дружина забезпечені), переходжу на pie charts"
   ]
  },
  {
   "cell_type": "markdown",
   "id": "7fa72942",
   "metadata": {},
   "source": [
    "## 6. Ratio of words, that mean someone don't know something"
   ]
  },
  {
   "cell_type": "markdown",
   "id": "3b434bb8",
   "metadata": {},
   "source": [
    "### Відповівши черговий раз хз, я подумав, що вже ніколи не пишу 'не знаю', тому задумався, як люди пишуть 'я не знаю' (під час написання коду згадав, про ще одну форму, трохи \"специфічну\", але в цілях дослідження потрібно перевірити і її)"
   ]
  },
  {
   "cell_type": "code",
   "execution_count": null,
   "id": "9171f448",
   "metadata": {},
   "outputs": [],
   "source": [
    "hzl = ['хз|hz', \"не знаю|idk|don't know\", '(^|\\s+)[еє]бу(\\s+|$)']\n",
    "hzt = ['Хз (скорочення від хто знає)', 'Hе знаю', 'Нецензурна форма (є*у)']\n",
    "dfl = pd.DataFrame({'title':hzt, 'count':[0, 0, 0]})\n",
    "for i in range(len(hzl)):\n",
    "    dfl.loc[i, 'count'] = df[df['message'].str.contains(hzl[i], case = False, na = False)].shape[0]\n",
    "fig = px.pie(dfl, values='count', names='title', hover_name='title', hole=0.3,\n",
    "             labels={'count':'Кількість використань данного виразу',\n",
    "                     'title':'Вираз'}, \n",
    "             title='Як люди кажуть \"Я не знаю\"')\n",
    "\n",
    "fig.show()"
   ]
  },
  {
   "cell_type": "markdown",
   "id": "ca86f188",
   "metadata": {},
   "source": [
    "### Очікувано"
   ]
  },
  {
   "cell_type": "markdown",
   "id": "ea39db2d",
   "metadata": {},
   "source": [
    "## 7. Ratio of letters of Ukrainian alphabet in all messages"
   ]
  },
  {
   "cell_type": "markdown",
   "id": "a65e1993",
   "metadata": {},
   "source": [
    "### Вирішив перевірити \"популярність\" літер серед всіх повідомлень, алгоритм не дуже добре, але все ж працює, тому в продакшн"
   ]
  },
  {
   "cell_type": "code",
   "execution_count": null,
   "id": "1f88c075",
   "metadata": {},
   "outputs": [],
   "source": [
    "regex = '[АаБбВвГгҐґДдЕеЄєЖжЗзИиІіЇїЙйКкЛлМмНнОоПпРрСсТтУуФфХхЦцЧчШшЩщЬьЮюЯя]'\n",
    "letter = []\n",
    "lcount = []\n",
    "\n",
    "def add_m_to_letters(message):\n",
    "    l = re.findall(regex, message)\n",
    "    for i in l:\n",
    "        if not (i.lower() in letter):\n",
    "            letter.append(i.lower())\n",
    "            lcount.append(0)\n",
    "        lcount[letter.index(i.lower())]+=1\n",
    "        \n",
    "    \n",
    "dfm = df[~df['message'].isna()]\n",
    "dfm.loc[0:, 'message'].apply(add_m_to_letters)\n",
    "\n",
    "ldf = pd.DataFrame({'letter':letter,'lcount':lcount})\n",
    "\n",
    "fig = px.pie(ldf, values='lcount', names='letter', hover_name='letter', hole=0.3,\n",
    "             labels={'lcount':'Кількість використань данної літери',\n",
    "                     'letter':'Літера'}, \n",
    "             title='Кількість використань букв українського алфавіту')\n",
    "\n",
    "fig.show()"
   ]
  },
  {
   "cell_type": "markdown",
   "id": "4a864326",
   "metadata": {},
   "source": [
    "### Колись думав, чи використовує хтось букву \"Ґ\" (в мене її навіть на клавіатурі нема)? Аж 454 раза! Правда за більше ніж мільйон повідомлень"
   ]
  },
  {
   "cell_type": "markdown",
   "id": "37ea863d",
   "metadata": {},
   "source": [
    "## 8. Top 50 of words in certain group ***"
   ]
  },
  {
   "cell_type": "markdown",
   "id": "705952e7",
   "metadata": {},
   "source": [
    "### Вирішив так само пройтися по словах (на цей раз в конкретній групі, бо алгоритм явно не справиться з мільйоном повідомлень)"
   ]
  },
  {
   "cell_type": "code",
   "execution_count": null,
   "id": "ed93455f",
   "metadata": {},
   "outputs": [],
   "source": [
    "stopwords= ['а', 'б', 'в', 'е', 'ж', 'з', 'т', 'у', 'я', 'є', 'і', 'аж', 'ви', 'де', 'до', 'за', 'зі', 'ми', 'на', 'ну', 'нх', 'по', 'та', 'ти', 'то', 'ту', 'ті', 'це', 'цю', 'ця', 'ці', 'чи', 'ще', 'що', 'як', 'їй', 'їм', 'їх', 'її', 'або', 'але', 'ало', 'без', 'був', 'вам', 'вас', 'ваш', 'вже', 'все', 'всю', 'вся', 'від', 'він', 'два', 'дві', 'для', 'ким', 'мож', 'моя', 'моє', 'мої', 'міг', 'між', 'мій', 'нам', 'нас', 'наш', 'нею', 'неї', 'них', 'ніж', 'ній', 'ось', 'пох', 'при', 'про', 'пір', 'раз', 'рік', 'сам', 'сих', 'так', 'там', 'теж', 'тим', 'тих', 'той', 'тою', 'три', 'тут', 'хоч', 'хто', 'цей', 'цим', 'цих', 'час', 'щоб', 'яка', 'які', 'адже', 'буде', 'буду', 'будь', 'була', 'були', 'було', 'бути', 'вами', 'ваша', 'ваше', 'ваші', 'весь', 'вниз', 'вона', 'вони', 'воно', 'всею', 'всім', 'всіх', 'втім', 'геть', 'далі', 'зате', 'його', 'йому', 'каже', 'кого', 'коли', 'кому', 'крім', 'куди', 'лише', 'мало', 'мене', 'мені', 'мною', 'нами', 'наша', 'наше', 'наші', 'ними', 'ніби', 'поки', 'пора', 'сама', 'саме', 'саму', 'самі', 'свою', 'своє', 'свої', 'себе', 'собі', 'став', 'така', 'таке', 'такі', 'твоя', 'твоє', 'твій', 'тебе', 'тими', 'тобі', 'того', 'тоді', 'тому', 'туди', 'хоча', 'хіба', 'цими', 'цієї', 'інша', 'інше', 'інші', 'буває', 'будеш', 'більш', 'вгору', 'внизу', 'вісім', 'кожен', 'кожна', 'кожне', 'кожні', 'краще', 'ледве', 'майже', 'менше', 'могти', 'можна', 'нього', 'однак', 'потім', 'самим', 'самих', 'самій', 'свого', 'своєї', 'своїх', 'собою', 'такий', 'також', 'тобою', 'трохи', 'усюди', 'усіма', 'хочеш', 'цього', 'цьому', 'часто', 'через', 'якого', 'іноді', 'інший', 'інших', 'багато', 'будемо', 'будете', 'будуть', 'більше', 'всього', 'всьому', 'далеко', 'десять', 'досить', 'другий', 'дійсно', 'завжди', 'звідси', 'зовсім', 'кругом', 'кілька', 'можуть', 'навіть', 'навіщо', 'небудь', 'низько', 'ніколи', 'нікуди', 'нічого', 'обидва', 'одного', 'однієї', 'піздєц', 'просто', 'раніше', 'раптом', 'самими', 'самого', 'самому', 'скрізь', 'тільки', 'близько', 'важлива', 'важливе', 'важливі', 'вдалині', 'зайнята', 'занадто', 'значить', 'навколо', 'нарешті', 'нерідко', 'повинно', 'посеред', 'початку', 'пізніше', 'сказала', 'сказати', 'скільки', 'спасибі', 'частіше', 'важливий', 'зазвичай', 'зайнятий', 'звичайно', 'здається', 'найбільш', 'недалеко', 'особливо', 'потрібно', 'спочатку', 'сьогодні', 'численна', 'численне', 'численні', 'відсотків', 'звідусіль', 'нещодавно', 'численний', 'будь-ласка', 'безперервно', 'не', 'a', 'шо', 'что', 'см', 'да', 'уже', 'нє', 'чого', 'бы', 'би', 'же', 'бо', 'ні', 'че', 'что', 'якщо', 'это', 'чо', 'но', 'с', 'о', 'и', 'от', 'наче', 'може', 'тоже', 'теж', 'п', 'ты', 'нада', 'тебе', 'тож', 'как', 'он', 'меня', 'если', 'будет', 'еще', 'ещё', 'мне', 'к', 'можно', 'есть', 'кто', 'нет', 'вот', 'было', 'можна', 'или', 'где', 'тебя', 'он', 'она', 'из', 'когда', 'вы', 'мы', 'треба', 'й', 'чё', 'продовжуй', 'довжина', 'тепер', 'песюн', 'грати', 'год', 'хв', 'вроде', 'мб', 'возможно', 'всі', 'все', 'ок', 'только']"
   ]
  },
  {
   "cell_type": "code",
   "execution_count": null,
   "id": "7a91a1c0",
   "metadata": {
    "scrolled": false
   },
   "outputs": [],
   "source": [
    "gname = 'Примати20х2'\n",
    "regex = '[а-яА-Я]\\w*'\n",
    "words = []\n",
    "wcount = []\n",
    "\n",
    "def add_m_to_words(message):\n",
    "    l = re.findall(regex, message)\n",
    "    for i in l:\n",
    "        if not (i.lower() in words):\n",
    "            words.append(i.lower())\n",
    "            wcount.append(0)\n",
    "        wcount[words.index(i.lower())]+=1\n",
    "        \n",
    "\n",
    "group_messages = df[df['dialog_id']==get_group_id_by_name(gname)]\n",
    "group_messages = group_messages[group_messages['user_id']!=539991741]\n",
    "dfm = group_messages[~group_messages['message'].isna()]\n",
    "dfm['message'].apply(add_m_to_words)\n",
    "\n",
    "ldf = pd.DataFrame({'words':words,'wcount':wcount})\n",
    "ldf['not_in_sw'] = ldf['words'].apply(lambda x: x not in stopwords)\n",
    "ldf = ldf[ldf['not_in_sw']].sort_values('wcount', ascending=False).iloc[0:10, 0:]\n",
    "\n",
    "fig = px.pie(ldf, values='wcount', names='words', hover_name='words', hole=0.3, width=800, height = 800,\n",
    "             labels={'wcount':'Кількість використань даного',\n",
    "                     'words':'Слово'}, \n",
    "             title='Топ 10 найвживаніших слів в групі ' + gname + '. Загалом слів: ' + str(ldf['wcount'].sum()))\n",
    "\n",
    "fig.show()\n"
   ]
  },
  {
   "cell_type": "markdown",
   "id": "d56f28bc",
   "metadata": {},
   "source": [
    "### Майже все прийменники та сполучники"
   ]
  },
  {
   "cell_type": "markdown",
   "id": "be5bc54c",
   "metadata": {},
   "source": [
    "## 9. Ratio of punctuation marks in all messages"
   ]
  },
  {
   "cell_type": "markdown",
   "id": "b9b0b023",
   "metadata": {},
   "source": [
    "### Якщо перевірили по словах, то потрібно і по розділових знаках, хоча тут великої інтриги думаю не буде"
   ]
  },
  {
   "cell_type": "code",
   "execution_count": null,
   "id": "e7b1580d",
   "metadata": {},
   "outputs": [],
   "source": [
    "regex = '[,.!?:-]'\n",
    "letter = []\n",
    "lcount = []\n",
    "    \n",
    "dfm = df[~df['message'].isna()]\n",
    "dfm.loc[0:, 'message'].apply(add_m_to_letters)\n",
    "\n",
    "ldf = pd.DataFrame({'letter':letter,'lcount':lcount})\n",
    "\n",
    "fig = px.pie(ldf, values='lcount', names='letter', hover_name='letter', hole=0.3,\n",
    "             labels={'lcount':'Кількість використань данного знаку',\n",
    "                     'letter':'Розділовий знак'}, \n",
    "             title='Кількість використань розділових знаків [,.!?:-]')\n",
    "\n",
    "fig.show()"
   ]
  },
  {
   "cell_type": "markdown",
   "id": "17aefc8d",
   "metadata": {},
   "source": [
    "### Думав що крапок буде набагато меншн за кількість ком. Але чомусь це не так"
   ]
  },
  {
   "cell_type": "markdown",
   "id": "7fcb4bcd",
   "metadata": {},
   "source": [
    "## 10. Amount of photos sended by each user in group"
   ]
  },
  {
   "cell_type": "markdown",
   "id": "1183f9b1",
   "metadata": {},
   "source": [
    "### Вирішив знову перевірити якусь статистику по групах, на цей раз кількість фото кожного юзера до загальної кількості"
   ]
  },
  {
   "cell_type": "code",
   "execution_count": null,
   "id": "588eba78",
   "metadata": {},
   "outputs": [],
   "source": [
    "gname = 'Примати20х2'\n",
    "gm = df[df['dialog_id']==get_group_id_by_name(gname)]\n",
    "gm = gm[gm['type'] == 'photo']\n",
    "gm = gm.groupby('user_id', as_index=False)['type'].count().rename(columns={'type':'photos_count'})\n",
    "gm['total_photos'] = gm['photos_count'].sum()\n",
    "data = get_users_of_group(get_group_id_by_name(gname)).merge(gm, on='user_id')\n",
    "fig = px.pie(data, values='photos_count', names='name', hover_name='name', hole=0.3, width=1000, height = 1000,\n",
    "             labels={'photos_count':'Кількість фото користувача в групі',\n",
    "                     'name':'Нік'}, \n",
    "             title='Число фото надісланих кожним користувачем в групі')\n",
    "\n",
    "fig.show()\n",
    "fig.write_image('fig10.png', engine='kaleido')"
   ]
  },
  {
   "cell_type": "markdown",
   "id": "736142b0",
   "metadata": {},
   "source": [
    "## 11. Top groups by the longest voice"
   ]
  },
  {
   "cell_type": "markdown",
   "id": "32b415a9",
   "metadata": {},
   "source": [
    "### По гістаграмах вирішив зробити якийсь топ, але не хотілося робити щось дуже поверхневе, тому вирішив зробити топ груп, по найдовшим голосовим"
   ]
  },
  {
   "cell_type": "code",
   "execution_count": null,
   "id": "966e4cbd",
   "metadata": {},
   "outputs": [],
   "source": [
    "data = df[df['type']=='voice'].sort_values('duration', ascending=False)\n",
    "data = data[data['dialog_id']<0].groupby('dialog_id', as_index=False)['duration'].first()\n",
    "data = data.merge(groups, on='dialog_id').sort_values('duration', ascending=False)\n",
    "fig = px.histogram(data, y='duration', x='name', color='name', height = 800,\n",
    "                   labels={'duration':'Довжина найдовшого голосового',\n",
    "                           'name':'Назва групи'},\n",
    "                   title = 'Топ груп по найдовшому голосовому повідомленню')\n",
    "fig.show()\n",
    "fig.write_image('fig11.png', engine='kaleido')"
   ]
  },
  {
   "cell_type": "markdown",
   "id": "81452744",
   "metadata": {},
   "source": [
    "## 12. Groups, that have the shortest video longer than 1 second"
   ]
  },
  {
   "cell_type": "markdown",
   "id": "f7e5b322",
   "metadata": {},
   "source": [
    "### І протилежне по відео, але тепер з нижньою межею"
   ]
  },
  {
   "cell_type": "code",
   "execution_count": null,
   "id": "0e22e930",
   "metadata": {},
   "outputs": [],
   "source": [
    "data = df[df['type']=='video'].sort_values('duration')\n",
    "data = data[data['dialog_id']<0].groupby('dialog_id', as_index=False)['duration'].first()\n",
    "data = data.merge(groups, on='dialog_id')\n",
    "data = data[data['duration'] > 1].sort_values('duration', ascending=False)\n",
    "fig = px.histogram(data, y='duration', x='name', color='name', height = 800, range_y=(0, 100),\n",
    "                   labels={'duration':'Довжина найкоротшого відео',\n",
    "                           'name':'Назва групи'},\n",
    "                   title = 'Групи, найкоротше відео в яких довше за 1 секунду')\n",
    "fig.show()\n"
   ]
  },
  {
   "cell_type": "markdown",
   "id": "e38584ac",
   "metadata": {},
   "source": [
    "## 13. User's word cloud. What messages does user the most frequently use?"
   ]
  },
  {
   "cell_type": "markdown",
   "id": "b12ffa48",
   "metadata": {},
   "source": [
    "### Нещодавно бачив вордклауд своїх повідомлень на сайті по розборі однієї із ігор, тому теж захотів спробувати, але звичайний вордклауд здався мені недостатньо гарним, тому трохи полазивши на сайтах, знайшов як додавати маски"
   ]
  },
  {
   "cell_type": "code",
   "execution_count": null,
   "id": "a7254cec",
   "metadata": {},
   "outputs": [],
   "source": [
    "sw = set(STOPWORDS)\n",
    "sw.update(stopwords)"
   ]
  },
  {
   "cell_type": "code",
   "execution_count": null,
   "id": "dd35726b",
   "metadata": {},
   "outputs": [],
   "source": [
    "a = users[users['private']].rename(columns={'user_id':'dialog_id'}).merge(df, on='dialog_id').groupby('dialog_id', as_index=False).count().loc[0:, ['dialog_id', 'message']]\n",
    "uids = []\n",
    "uids = [my_id, *(a.rename(columns={'dialog_id':'user_id'}).merge(users, on='user_id').sort_values('message', ascending=False).iloc[0:5, 0].tolist())]\n",
    "uids"
   ]
  },
  {
   "cell_type": "code",
   "execution_count": null,
   "id": "d4b097e0",
   "metadata": {},
   "outputs": [],
   "source": [
    "users[users['user_id'] == 965980838]"
   ]
  },
  {
   "cell_type": "code",
   "execution_count": null,
   "id": "efcb9525",
   "metadata": {},
   "outputs": [],
   "source": [
    "regex = '[а-яА-Я]\\w*'\n",
    "for uid in uids:\n",
    "    words.clear()\n",
    "    wcount.clear()\n",
    "    strwc = []\n",
    "    strwc.append('')\n",
    "\n",
    "    def add_word_to_wc(row):\n",
    "        strwc[0]+=(row['word']+' ')*row['wcount']\n",
    "\n",
    "\n",
    "    dftmp = df[~df['message'].isna()]\n",
    "    dftmp = dftmp[dftmp['user_id'] == uid]\n",
    "    dftmp['message'].apply(add_m_to_words)\n",
    "\n",
    "    wrds = pd.DataFrame({'word':words,'wcount':wcount}).sort_values('wcount', ascending=False).iloc[0:200, 0:]\n",
    "    wrds.apply(add_word_to_wc, axis=1)\n",
    "\n",
    "    # VISUALIZING\n",
    "\n",
    "    # def tmsk(x):\n",
    "    #     return 255-x\n",
    "\n",
    "    mask = np.array(Image.open(\"data/ua.png\"))\n",
    "    # mask = np.array(Image.open(\"data/py.png\"))\n",
    "    # tmask = np.ndarray((mask.shape[0],mask.shape[1], mask.shape[2]))\n",
    "    # for i in range(len(mask)):\n",
    "    #     for j in range(len(mask[i])):\n",
    "    #         for k in range(len(mask[i][j])):\n",
    "    #             tmask[i][j][k] = tmsk(mask[i][j][k])       \n",
    "\n",
    "    image_colors = ImageColorGenerator(mask)\n",
    "    wordcloud = WordCloud(\n",
    "        background_color=\"white\",\n",
    "        mode=\"RGBA\",\n",
    "        max_words=1000,\n",
    "        mask=mask,#tmask,\n",
    "        color_func=image_colors,\n",
    "        collocations=False,\n",
    "        stopwords=sw\n",
    "    ).generate(strwc[0])\n",
    "\n",
    "    plt.figure(figsize=[8, 6])\n",
    "    plt.imshow(wordcloud.recolor(color_func=image_colors))\n",
    "    plt.axis(\"off\")\n",
    "    plt.show()"
   ]
  },
  {
   "cell_type": "markdown",
   "id": "42852948",
   "metadata": {},
   "source": [
    "## 14. Group's word cloud"
   ]
  },
  {
   "cell_type": "markdown",
   "id": "5cf70d6d",
   "metadata": {},
   "source": [
    "### Далі вордклауд групи. Сказати що мені хотілося проаналізувати, які слова ми там вживали в групі, не буде достатньо чесним, насправді я просто захотів намалювати прапор УПА"
   ]
  },
  {
   "cell_type": "code",
   "execution_count": null,
   "id": "c41ead8a",
   "metadata": {},
   "outputs": [],
   "source": [
    "strwc = []\n",
    "regex = '[а-яА-Я]\\w*'\n",
    "gname = 'CSS_01_2022_KMA'\n",
    "words.clear()\n",
    "wcount.clear()\n",
    "strwc.append('')    \n",
    "\n",
    "dftmp = df[~df['message'].isna()]\n",
    "dftmp = dftmp[dftmp['dialog_id'] == get_group_id_by_name(gname)]\n",
    "dftmp['message'].apply(add_m_to_words)\n",
    "\n",
    "wrds = pd.DataFrame({'word':words,'wcount':wcount}).sort_values('wcount', ascending=False).iloc[0:200, 0:]\n",
    "wrds.apply(add_word_to_wc, axis=1)\n",
    "\n",
    "# VISUALIZING\n",
    "\n",
    "mask = np.array(Image.open(\"data/ua.png\"))    \n",
    "\n",
    "image_colors = ImageColorGenerator(mask)\n",
    "wordcloud = WordCloud(stopwords=sw, background_color=\"white\", mode=\"RGBA\", max_words=1000, mask=mask, color_func=image_colors, collocations=False, ).generate(strwc[0])\n",
    "\n",
    "plt.figure(figsize=[8,6])\n",
    "plt.imshow(wordcloud.recolor(color_func=image_colors))\n",
    "plt.axis(\"off\")\n",
    "plt.show()"
   ]
  },
  {
   "cell_type": "markdown",
   "id": "778f4b39",
   "metadata": {},
   "source": [
    "### Слава Україні!"
   ]
  },
  {
   "cell_type": "markdown",
   "id": "1b65e5a3",
   "metadata": {},
   "source": [
    "## 15. Top 20 the most popular emojies in all groups ***"
   ]
  },
  {
   "cell_type": "markdown",
   "id": "ccb21d14",
   "metadata": {},
   "source": [
    "### Повертаючись до гістограм не міг не провести топ емодзі, хоча написати нормальний реджекс було трохи складно"
   ]
  },
  {
   "cell_type": "code",
   "execution_count": null,
   "id": "23d7d857",
   "metadata": {},
   "outputs": [],
   "source": [
    "ignore = [1124824021, 539991741, 946406081, 430091003]"
   ]
  },
  {
   "cell_type": "code",
   "execution_count": null,
   "id": "d4888b8c",
   "metadata": {},
   "outputs": [],
   "source": [
    "s = \"[\\U0001f1e6-\\U0001f1ff][\\U0001f1e6-\\U0001f1ff]\"\n",
    "f = \"[\\U0001f1e6-\\U0001f1ff]\"\n",
    "t = \"[\\U0001f3fb-\\U0001f3ff]\"\n",
    "\n",
    "emojie_re = \"[\\U00010000-\\U0010ffff]\"\n",
    "\n",
    "emojies = []\n",
    "ecount = []\n",
    "\n",
    "def add_m_to_emojies(message):\n",
    "    l = re.findall(emojie_re, message)\n",
    "    for i in l:\n",
    "        if re.match(f, i) is None and re.match(t, i) is None:\n",
    "            if not i in words:\n",
    "                emojies.append(i)\n",
    "                ecount.append(0)\n",
    "            ecount[emojies.index(i)]+=1\n",
    "    l = re.findall(s, message)\n",
    "    for i in l:\n",
    "        if not i in words:\n",
    "            emojies.append(i)\n",
    "            ecount.append(0)\n",
    "        ecount[emojies.index(i)]+=1\n",
    "        \n",
    "\n",
    "emj = df[~df['message'].isna()]\n",
    "for i in ignore:\n",
    "    emj = emj[emj['user_id']!=i]\n",
    "emj.loc[0:, 'message'].apply(add_m_to_emojies)\n",
    "\n",
    "data = pd.DataFrame({'emojie':emojies,'ecount':ecount}).sort_values('ecount', ascending=False).iloc[0:15, 0:]\n",
    "\n",
    "fig = px.histogram(data, y='ecount', x='emojie', color='emojie', hover_name='emojie', height = 800,\n",
    "                   labels={'ecount':'Кількість використань данного емодзі',\n",
    "                           'emojie':'Емодзі'},\n",
    "                   title = 'Топ 15 найвживаніших емодзі')\n",
    "fig.show()\n"
   ]
  },
  {
   "cell_type": "markdown",
   "id": "bb5221b0",
   "metadata": {},
   "source": [
    "### І знову боти все псують, через бота, який спамив жабой, емодзі жаби тепер топ 2. Дуже багато емодзі яких я не очікував і майже ніде не бачив, думаю це теж робота ботів (медаль, торт, танцівниця - хто їх при здоровому глузді буде використовувати?). Здається, тут неправильно відображаються прапори і діляться на 2, по буквах, по іншому ці 2 символа 'U' i 'A' пояснити не можу, хоча дивно що їх різна кількість, можливо, U використовується для ще якоїсь країни 'UK'. Всі інші емодзі очікувані"
   ]
  },
  {
   "cell_type": "markdown",
   "id": "a15aa325",
   "metadata": {},
   "source": [
    "## 16. Statistics of mentions about popular games"
   ]
  },
  {
   "cell_type": "markdown",
   "id": "4547df3d",
   "metadata": {},
   "source": [
    "### Серед ігор обирав ті, в які грає моє оточення, чоб було більше повідомлень з ними"
   ]
  },
  {
   "cell_type": "code",
   "execution_count": null,
   "id": "416cabad",
   "metadata": {
    "scrolled": false
   },
   "outputs": [],
   "source": [
    "games = ['dot[au]|дотк?[ау]', 'cs|кс', 'pubg|п[ау]бг','rl|rocket league|рл|рокет л[іи]га']\n",
    "tgames = ['Dota', 'CS', 'PUBG', 'Rocket league']\n",
    "\n",
    "dtmp = df[~df['message'].isna()]\n",
    "plt.figure(figsize=(12,12))\n",
    "for i in range(len(games)):\n",
    "    plt.subplot(4, 2, i+1)\n",
    "    rx = games[i]\n",
    "    find = dtmp[dtmp['message'].str.contains(rx, na = False, case=False, regex=True)]\n",
    "    datapart = find.groupby('date', as_index=False)['message'].count().rename(columns={'message':'count'})\n",
    "    sns.lineplot(data=datapart, x='date', y='count')\n",
    "    plt.title(f\"Згадки гри {tgames[i]}\")\n",
    "    plt.ylabel(\"Кількість згадок\")\n",
    "    plt.xlabel(\"Дата\")\n",
    "\n",
    "plt.tight_layout()\n",
    "plt.show()"
   ]
  },
  {
   "cell_type": "markdown",
   "id": "61e70968",
   "metadata": {},
   "source": [
    "## 17. Popularity of different agree messages written alone in message"
   ]
  },
  {
   "cell_type": "markdown",
   "id": "c693af85",
   "metadata": {},
   "source": [
    "### Часто помічав, що слово го використовують частіше, ніж всі інші слова. Перевіряю, чи це так"
   ]
  },
  {
   "cell_type": "code",
   "execution_count": null,
   "id": "739a102b",
   "metadata": {},
   "outputs": [],
   "source": [
    "agree = ['^(ок|ok)$', '^добре$', '^go|го$']\n",
    "tagree = ['Ok', 'Добре', 'Го']\n",
    "\n",
    "dtmp = df[~df['message'].isna()]\n",
    "for i in range(len(agree)):\n",
    "    rx = agree[i]\n",
    "    find = dtmp[dtmp['message'].str.contains(rx, na=False, case=False)]\n",
    "    datapart = find.groupby('date', as_index=False)['message'].count().rename(columns={'message':'count'})\n",
    "    datapart['name'] = tagree[i]\n",
    "    if i==0:\n",
    "        data = datapart\n",
    "    else:\n",
    "        data = pd.concat([data, datapart])\n",
    "\n",
    "fig = px.line(data, x=\"date\", color=\"name\", y='count',\n",
    "              labels={'name': 'Слова',\n",
    "                      'count': 'Кількість використань',\n",
    "                      'date' : 'Дата'\n",
    "              },\n",
    "              title='Кількість використань різних слів для згоди')\n",
    "fig.show()\n"
   ]
  },
  {
   "cell_type": "markdown",
   "id": "823db9a7",
   "metadata": {},
   "source": [
    "### Як я і думав"
   ]
  },
  {
   "cell_type": "markdown",
   "id": "7394dc10",
   "metadata": {},
   "source": [
    "## 18. Statistics of different messages that means users laugh by date"
   ]
  },
  {
   "cell_type": "markdown",
   "id": "d0a5b98c",
   "metadata": {},
   "source": [
    "### Часто почав бачити коли анони пишуть ор/ору замість старого ахахахаха, тому потрібно зрівняти частоту цих слів"
   ]
  },
  {
   "cell_type": "code",
   "execution_count": null,
   "id": "f609b67f",
   "metadata": {},
   "outputs": [],
   "source": [
    "agree = ['[ахah]{4,}', '(^|\\s+)ору?(\\s+|$)']\n",
    "tagree = ['Ахахахах...', 'Ор']\n",
    "\n",
    "dtmp = df[~df['message'].isna()]\n",
    "for i in range(len(agree)):\n",
    "    rx = agree[i]\n",
    "    find = dtmp[dtmp['message'].str.contains(rx, na=False, case=False)]\n",
    "    datapart = find.groupby('date', as_index=False)['message'].count().rename(columns={'message':'count'})\n",
    "    datapart['name'] = tagree[i]\n",
    "    if i==0:\n",
    "        data = datapart\n",
    "    else:\n",
    "        data = pd.concat([data, datapart])\n",
    "\n",
    "fig = px.line(data, x=\"date\", color=\"name\", y='count',\n",
    "              labels={'name': 'Слова',\n",
    "                      'count': 'Кількість використань',\n",
    "                      'date' : 'Дата'\n",
    "              },\n",
    "              title='Кількість використань різних \"сміхів\"')\n",
    "fig.show()"
   ]
  },
  {
   "cell_type": "markdown",
   "id": "191d3dfa",
   "metadata": {},
   "source": [
    "### Все таки ахахаха набагато частіше"
   ]
  },
  {
   "cell_type": "markdown",
   "id": "a2b9e34a",
   "metadata": {},
   "source": [
    "## 19. Top 25 usernames by count of written notifications (@usernames)"
   ]
  },
  {
   "cell_type": "markdown",
   "id": "6bf97ca3",
   "metadata": {},
   "source": [
    "### Хочу перевірити чи в усіх моїх чатах мене хоча б найбільше сповіщенали"
   ]
  },
  {
   "cell_type": "code",
   "execution_count": null,
   "id": "bce2b9c6",
   "metadata": {},
   "outputs": [],
   "source": [
    "regex = '\\W@\\w+'\n",
    "words.clear()\n",
    "wcount.clear()\n",
    "\n",
    "dfm = df[~df['message'].isna()]\n",
    "dfm.loc[0:, 'message'].apply(add_m_to_words)\n",
    "\n",
    "data = pd.DataFrame({'notifications':words,'count':wcount}).sort_values('count', ascending=False).iloc[0:25, 0:]\n",
    "\n",
    "fig = px.histogram(data, y = 'count', x = 'notifications', color='notifications', height = 600,\n",
    "             labels={'count':'Кількість оповіщень',\n",
    "                     'notification':'Нік'}, \n",
    "             title='Топ 25 найчастіше оповіщених користувачів')\n",
    "\n",
    "fig.show()"
   ]
  },
  {
   "cell_type": "markdown",
   "id": "a56a83bb",
   "metadata": {},
   "source": [
    "### Пощастило)"
   ]
  },
  {
   "cell_type": "markdown",
   "id": "66136fa1",
   "metadata": {},
   "source": [
    "## 20. Popularity of some websites, count written links ***"
   ]
  },
  {
   "cell_type": "markdown",
   "id": "01b3e06d",
   "metadata": {},
   "source": [
    "### І, наприкінці інфа по сайтам, з самого початку зібрався зробити її, але чомусь забув"
   ]
  },
  {
   "cell_type": "code",
   "execution_count": null,
   "id": "0d065f8f",
   "metadata": {},
   "outputs": [],
   "source": [
    "regex = '([a-z.-]+\\.\\w{2,3}\\.?\\w*)\\W'\n",
    "words.clear()\n",
    "wcount.clear()\n",
    "\n",
    "dfm = df[~df['message'].isna()]\n",
    "dfm.loc[0:, 'message'].apply(add_m_to_words)\n",
    "\n",
    "wcount.pop(words.index('na.sta.sia'))\n",
    "words.remove('na.sta.sia')\n",
    "\n",
    "data = pd.DataFrame({'links':words,'count':wcount}).sort_values('count', ascending=False).iloc[0:15, 0:]\n",
    "\n",
    "fig = px.histogram(data, y = 'count', x = 'links', color='links', height = 600,\n",
    "             labels={'count':'Кількість лінків',\n",
    "                     'links':'Лінк'}, \n",
    "             title='Топ 15 найчастіше використаних лінків')\n",
    "\n",
    "fig.show()"
   ]
  },
  {
   "cell_type": "markdown",
   "id": "b8df2ac9",
   "metadata": {},
   "source": [
    "### Посилання на ютуб явно домінують"
   ]
  },
  {
   "cell_type": "markdown",
   "id": "ee9b6eeb",
   "metadata": {},
   "source": [
    "# Summary"
   ]
  },
  {
   "cell_type": "markdown",
   "id": "1b604e6c",
   "metadata": {},
   "source": [
    "Завдання досить цікаве, тому що дозволяє проявити не тільки технічну, а й з креативну сторону. Але через велику кількість\n",
    "графіків відчувається вигорання і наприкінці дуже важко придумати щось, що реально цікаво було б дослідити. Не впевнений що \n",
    "коректно зрозумів значення слова сторітелінг в даному випадку, але постарався описати як я доходив до кожного з питань і які\n",
    "висновки отримував. Гарного Вам дня і миру нам!"
   ]
  }
 ],
 "metadata": {
  "kernelspec": {
   "display_name": "Python 3 (ipykernel)",
   "language": "python",
   "name": "python3"
  },
  "language_info": {
   "codemirror_mode": {
    "name": "ipython",
    "version": 3
   },
   "file_extension": ".py",
   "mimetype": "text/x-python",
   "name": "python",
   "nbconvert_exporter": "python",
   "pygments_lexer": "ipython3",
   "version": "3.9.7"
  }
 },
 "nbformat": 4,
 "nbformat_minor": 5
}
